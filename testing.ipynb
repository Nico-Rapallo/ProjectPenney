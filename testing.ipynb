{
 "cells": [
  {
   "cell_type": "code",
   "execution_count": 2,
   "metadata": {},
   "outputs": [],
   "source": [
    "from src.helpers import *\n",
    "from src.visualization import *\n",
    "from src.Decks_Class import *\n",
    "import pandas as pd\n",
    "import numpy as np\n",
    "import os"
   ]
  },
  {
   "cell_type": "code",
   "execution_count": 121,
   "metadata": {},
   "outputs": [],
   "source": [
    "Trick_Wins, Trick_Losses, Cards_Wins, Cards_Losses = get_complete_tables()\n",
    "\n",
    "total = np.sum(np.load('src/Decks/deck_lengths.npy'))\n",
    "\n",
    "mask = np.asarray(Trick_Wins==0)\n",
    "color_labels = ['RRR', 'RRB', 'RBR', 'RBB', 'BRR', 'BRB', 'BBR', 'BBB']\n",
    "\n",
    "trick_win_percent = (Trick_Wins)/total\n",
    "trick_loss_percent = (Trick_Losses)/total\n",
    "\n",
    "cards_win_percent = (Cards_Wins)/total\n",
    "cards_loss_percent = (Cards_Losses)/total"
   ]
  },
  {
   "cell_type": "code",
   "execution_count": null,
   "metadata": {},
   "outputs": [],
   "source": []
  },
  {
   "cell_type": "code",
   "execution_count": 140,
   "metadata": {},
   "outputs": [],
   "source": [
    "def create_graphs(win, loss, name):\n",
    "    n = \"{:.0e}\".format(int(total))\n",
    "    fig, (ax1, ax2) = plt.subplots(1, 2, figsize=(26, 12))\n",
    "    fig.suptitle(f'Penneys Game - {name} \\n(n={n})', fontsize=24)\n",
    "    \n",
    "    plt.yticks(rotation=0)\n",
    "    ax1 = sns.heatmap(win, \n",
    "                annot=True, mask = mask, cmap='Reds', fmt='.2%', linewidths=.5, ax=ax1)\n",
    "    \n",
    "    ax1.set_title('Win Percentage', fontsize=20)\n",
    "    ax1.set_xlabel('Player 2', fontsize=16)\n",
    "    ax1.set_ylabel('Player 1', fontsize=16)\n",
    "    ax1.set_yticklabels(labels = color_labels, rotation=0, fontsize=14)\n",
    "    ax1.set_xticklabels(labels = color_labels, rotation=0, fontsize=14)\n",
    "    ax1.figure.axes[-1].set_ylabel('Player 1 Win Percentage', size=16)\n",
    "    \n",
    "    \n",
    "    ax2 = sns.heatmap(loss, \n",
    "                annot=True, mask = mask, cmap='Blues', fmt='.2%', linewidths=.5, ax=ax2)\n",
    "    \n",
    "    ax2.set_title('Loss Percentage', fontsize=20)\n",
    "    ax2.set_xlabel('Player 2', fontsize=16)\n",
    "    ax2.set_ylabel('Player 1', fontsize=16)\n",
    "    ax2.set_yticklabels(labels = color_labels, rotation=0, fontsize=14)\n",
    "    ax2.set_xticklabels(labels = color_labels, rotation=0, fontsize=14)\n",
    "    ax1.figure.axes[-1].set_ylabel('Player 1 Loss Percentage', size=16)\n",
    "    \n",
    "    plt.savefig(f'figures/{name}_heatmap.png')\n",
    "    plt.show()"
   ]
  },
  {
   "cell_type": "code",
   "execution_count": null,
   "metadata": {},
   "outputs": [],
   "source": [
    "\n",
    "\n",
    "\n",
    "n = \"{:.0e}\".format(int(total))\n",
    "plt.figure(figsize=(10, 9))\n",
    "mask = trick_win_percent.isnull()\n",
    "sns.heatmap(trick_win_percent, annot=True, mask = mask, cmap='Reds', fmt='.2%', linewidths=.5, cbar_kws={'label': 'PLayer 1 Win Percentage'})\n",
    "plt.title(f'Penneys Game Win Percentage Heatmap\\n(n={n})')\n",
    "plt.yticks(rotation=0)\n",
    "plt.xlabel('Player 2')\n",
    "plt.ylabel('Player 1')\n",
    "\n",
    "\n",
    "plt.figure(figsize=(10, 9))\n",
    "sns.heatmap(trick_loss_percent, annot=True, mask = mask, cmap='Blues', fmt='.2%',cbar_kws={'label': 'PLayer 1 Loss Percentage'})\n",
    "plt.title(f'Penneys Game Loss Percentage Heatmap\\n(n={total})')\n",
    "plt.yticks(rotation=0)\n",
    "plt.xlabel('Player 2')\n",
    "plt.ylabel('Player 1')\n",
    "\n",
    "\n",
    "# plt.figure(figsize=(10, 9))\n",
    "# sns.heatmap(cards_win_percent, annot=True, mask = mask, cmap='Reds', fmt='.2%', cbar_kws={'label': 'PLayer 1 Win Percentage'})\n",
    "# plt.title(f'Penneys Game Win Percentage Heatmap\\n(n={n})')\n",
    "# plt.yticks(rotation=0)\n",
    "# plt.xlabel('Player 2')\n",
    "# plt.ylabel('Player 1')\n",
    "# plt.savefig('figures/cards_win_heatmap.png')\n",
    "\n",
    "# plt.figure(figsize=(10, 9))\n",
    "# sns.heatmap(cards_loss_percent, annot=True, mask = mask, cmap='Blues', fmt='.2%',cbar_kws={'label': 'PLayer 1 Loss Percentage'})\n",
    "# plt.title(f'Penneys Game Loss Percentage Heatmap\\n(n={n})')\n",
    "# plt.yticks(rotation=0)\n",
    "# plt.xlabel('Player 2')\n",
    "# plt.ylabel('Player 1')\n",
    "\n",
    "\n",
    "# plt.figure(figsize=(10, 9))\n",
    "# sns.heatmap(trick_win_percent-cards_win_percent, annot=True, mask = mask, cmap='vlag', fmt='.2%',cbar_kws={'label': 'PLayer 1 Win Percentage Difference'})\n",
    "# plt.title(f'Penneys Game Cards vs Tricks Win Percentage Heatmap\\n(n={n})')\n",
    "# plt.yticks(rotation=0)\n",
    "# plt.xlabel('Player 2')\n",
    "# plt.ylabel('Player 1')\n",
    "\n",
    "\n",
    "# plt.figure(figsize=(10, 9))\n",
    "# sns.heatmap(trick_loss_percent-cards_loss_percent, annot=True, mask = mask, cmap='vlag', fmt='.2%',cbar_kws={'label': 'PLayer 1 Loss Percentage Difference'})\n",
    "# plt.title(f'Penneys Game Cards vs Tricks Loss Percentage Heatmap\\n(n={n})')\n",
    "# plt.yticks(rotation=0)\n",
    "# plt.xlabel('Player 2')\n",
    "# plt.ylabel('Player 1')\n"
   ]
  },
  {
   "cell_type": "code",
   "execution_count": 144,
   "metadata": {},
   "outputs": [],
   "source": [
    "pick_what = pd.DataFrame(data = [[None]*5]*8, columns=['Opponent_Pick','Tricks_WinMax', 'Tricks_LossMin', 'Cards_WinMax','Cards_MinLoss'])\n",
    "for i, pick in enumerate(Tricks_winp.columns):\n",
    "    pick_what.loc[i, 'Opponent_Pick'] = pick\n",
    "    pick_what.loc[i, 'Tricks_WinMax'] = [Tricks_winp.iloc[:,(Tricks_winp.iloc[:,i].argmax())].name, round(Tricks_winp.iloc[:,i].max(),2)]\n",
    "    pick_what.loc[i, 'Tricks_LossMin'] = [Tricks_lossp.iloc[:,Tricks_lossp.iloc[:,i].argmin()].name, round(Tricks_lossp.iloc[:,i].min(),2)]\n",
    "    pick_what.loc[i, 'Cards_WinMax'] = [Tricks_winp.iloc[:,(Tricks_winp.iloc[:,i].argmax())].name, round(Tricks_winp.iloc[:,i].max(),2)]\n",
    "    pick_what.loc[i, 'Cards_MinLoss'] = [Tricks_lossp.iloc[:,Cards_lossp.iloc[:,i].argmin()].name, round(Cards_lossp.iloc[:,i].min(),2)]"
   ]
  },
  {
   "cell_type": "code",
   "execution_count": 147,
   "metadata": {},
   "outputs": [
    {
     "data": {
      "text/html": [
       "<div>\n",
       "<style scoped>\n",
       "    .dataframe tbody tr th:only-of-type {\n",
       "        vertical-align: middle;\n",
       "    }\n",
       "\n",
       "    .dataframe tbody tr th {\n",
       "        vertical-align: top;\n",
       "    }\n",
       "\n",
       "    .dataframe thead th {\n",
       "        text-align: right;\n",
       "    }\n",
       "</style>\n",
       "<table border=\"1\" class=\"dataframe\">\n",
       "  <thead>\n",
       "    <tr style=\"text-align: right;\">\n",
       "      <th></th>\n",
       "      <th>Opponent_Pick</th>\n",
       "      <th>Tricks_WinMax</th>\n",
       "      <th>Tricks_LossMin</th>\n",
       "      <th>Cards_WinMax</th>\n",
       "      <th>Cards_MinLoss</th>\n",
       "    </tr>\n",
       "  </thead>\n",
       "  <tbody>\n",
       "    <tr>\n",
       "      <th>0</th>\n",
       "      <td>[0, 0, 0]</td>\n",
       "      <td>[[1, 0, 0], 0.99]</td>\n",
       "      <td>[[1, 0, 0], 0.0]</td>\n",
       "      <td>[[1, 0, 0], 0.99]</td>\n",
       "      <td>[[1, 1, 1], 0.49]</td>\n",
       "    </tr>\n",
       "    <tr>\n",
       "      <th>1</th>\n",
       "      <td>[0, 0, 1]</td>\n",
       "      <td>[[1, 0, 0], 0.94]</td>\n",
       "      <td>[[1, 0, 0], 0.03]</td>\n",
       "      <td>[[1, 0, 0], 0.94]</td>\n",
       "      <td>[[1, 1, 1], 0.01]</td>\n",
       "    </tr>\n",
       "    <tr>\n",
       "      <th>2</th>\n",
       "      <td>[0, 1, 0]</td>\n",
       "      <td>[[0, 0, 1], 0.8]</td>\n",
       "      <td>[[1, 1, 0], 0.11]</td>\n",
       "      <td>[[0, 0, 1], 0.8]</td>\n",
       "      <td>[[1, 1, 1], 0.25]</td>\n",
       "    </tr>\n",
       "    <tr>\n",
       "      <th>3</th>\n",
       "      <td>[0, 1, 1]</td>\n",
       "      <td>[[0, 0, 1], 0.88]</td>\n",
       "      <td>[[0, 0, 1], 0.05]</td>\n",
       "      <td>[[0, 0, 1], 0.88]</td>\n",
       "      <td>[[1, 1, 1], 0.0]</td>\n",
       "    </tr>\n",
       "    <tr>\n",
       "      <th>4</th>\n",
       "      <td>[1, 0, 0]</td>\n",
       "      <td>[[1, 1, 0], 0.88]</td>\n",
       "      <td>[[1, 1, 0], 0.05]</td>\n",
       "      <td>[[1, 1, 0], 0.88]</td>\n",
       "      <td>[[0, 0, 0], 0.0]</td>\n",
       "    </tr>\n",
       "    <tr>\n",
       "      <th>5</th>\n",
       "      <td>[1, 0, 1]</td>\n",
       "      <td>[[1, 1, 0], 0.8]</td>\n",
       "      <td>[[0, 0, 1], 0.11]</td>\n",
       "      <td>[[1, 1, 0], 0.8]</td>\n",
       "      <td>[[0, 0, 0], 0.25]</td>\n",
       "    </tr>\n",
       "    <tr>\n",
       "      <th>6</th>\n",
       "      <td>[1, 1, 0]</td>\n",
       "      <td>[[0, 1, 1], 0.94]</td>\n",
       "      <td>[[0, 1, 1], 0.03]</td>\n",
       "      <td>[[0, 1, 1], 0.94]</td>\n",
       "      <td>[[0, 0, 0], 0.01]</td>\n",
       "    </tr>\n",
       "    <tr>\n",
       "      <th>7</th>\n",
       "      <td>[1, 1, 1]</td>\n",
       "      <td>[[0, 1, 1], 0.99]</td>\n",
       "      <td>[[0, 1, 1], 0.0]</td>\n",
       "      <td>[[0, 1, 1], 0.99]</td>\n",
       "      <td>[[0, 0, 0], 0.49]</td>\n",
       "    </tr>\n",
       "  </tbody>\n",
       "</table>\n",
       "</div>"
      ],
      "text/plain": [
       "  Opponent_Pick      Tricks_WinMax     Tricks_LossMin       Cards_WinMax  \\\n",
       "0     [0, 0, 0]  [[1, 0, 0], 0.99]   [[1, 0, 0], 0.0]  [[1, 0, 0], 0.99]   \n",
       "1     [0, 0, 1]  [[1, 0, 0], 0.94]  [[1, 0, 0], 0.03]  [[1, 0, 0], 0.94]   \n",
       "2     [0, 1, 0]   [[0, 0, 1], 0.8]  [[1, 1, 0], 0.11]   [[0, 0, 1], 0.8]   \n",
       "3     [0, 1, 1]  [[0, 0, 1], 0.88]  [[0, 0, 1], 0.05]  [[0, 0, 1], 0.88]   \n",
       "4     [1, 0, 0]  [[1, 1, 0], 0.88]  [[1, 1, 0], 0.05]  [[1, 1, 0], 0.88]   \n",
       "5     [1, 0, 1]   [[1, 1, 0], 0.8]  [[0, 0, 1], 0.11]   [[1, 1, 0], 0.8]   \n",
       "6     [1, 1, 0]  [[0, 1, 1], 0.94]  [[0, 1, 1], 0.03]  [[0, 1, 1], 0.94]   \n",
       "7     [1, 1, 1]  [[0, 1, 1], 0.99]   [[0, 1, 1], 0.0]  [[0, 1, 1], 0.99]   \n",
       "\n",
       "       Cards_MinLoss  \n",
       "0  [[1, 1, 1], 0.49]  \n",
       "1  [[1, 1, 1], 0.01]  \n",
       "2  [[1, 1, 1], 0.25]  \n",
       "3   [[1, 1, 1], 0.0]  \n",
       "4   [[0, 0, 0], 0.0]  \n",
       "5  [[0, 0, 0], 0.25]  \n",
       "6  [[0, 0, 0], 0.01]  \n",
       "7  [[0, 0, 0], 0.49]  "
      ]
     },
     "execution_count": 147,
     "metadata": {},
     "output_type": "execute_result"
    }
   ],
   "source": [
    "pick_what"
   ]
  },
  {
   "cell_type": "code",
   "execution_count": null,
   "metadata": {},
   "outputs": [],
   "source": []
  },
  {
   "cell_type": "code",
   "execution_count": 135,
   "metadata": {},
   "outputs": [
    {
     "ename": "NameError",
     "evalue": "name 'Cards_lossp' is not defined",
     "output_type": "error",
     "traceback": [
      "\u001b[31m---------------------------------------------------------------------------\u001b[39m",
      "\u001b[31mNameError\u001b[39m                                 Traceback (most recent call last)",
      "\u001b[36mCell\u001b[39m\u001b[36m \u001b[39m\u001b[32mIn[135]\u001b[39m\u001b[32m, line 6\u001b[39m\n\u001b[32m      4\u001b[39m pick_what.loc[i, \u001b[33m'\u001b[39m\u001b[33mTricks_LossMin\u001b[39m\u001b[33m'\u001b[39m] = [Tricks_lossp.iloc[:,Tricks_lossp.iloc[:,i].argmin()].name, \u001b[38;5;28mround\u001b[39m(Tricks_lossp.iloc[:,i].min(),\u001b[32m2\u001b[39m)]\n\u001b[32m      5\u001b[39m pick_what.loc[i, \u001b[33m'\u001b[39m\u001b[33mCards_WinMax\u001b[39m\u001b[33m'\u001b[39m] = [Tricks_winp.iloc[:,(Tricks_winp.iloc[:,i].argmax())].name, \u001b[38;5;28mround\u001b[39m(Tricks_winp.iloc[:,i].max(),\u001b[32m2\u001b[39m)]\n\u001b[32m----> \u001b[39m\u001b[32m6\u001b[39m pick_what.loc[i, \u001b[33m'\u001b[39m\u001b[33mCards_LossMin\u001b[39m\u001b[33m'\u001b[39m] = [Tricks_lossp.iloc[:,\u001b[43mCards_lossp\u001b[49m.iloc[:,i].argmin()].name, \u001b[38;5;28mround\u001b[39m(Cards_lossp.iloc[:,i].min(),\u001b[32m2\u001b[39m)]\n",
      "\u001b[31mNameError\u001b[39m: name 'Cards_lossp' is not defined"
     ]
    }
   ],
   "source": []
  },
  {
   "cell_type": "code",
   "execution_count": 110,
   "metadata": {},
   "outputs": [
    {
     "data": {
      "text/plain": [
       "{np.float64(0.9671671958201045), '[1, 1, 1]'}"
      ]
     },
     "execution_count": 110,
     "metadata": {},
     "output_type": "execute_result"
    }
   ],
   "source": [
    "{Tricks_winp.iloc[:,(Tricks_winp.iloc[0].argmax())].name, Tricks_winp.iloc[1].max()}"
   ]
  },
  {
   "cell_type": "code",
   "execution_count": 132,
   "metadata": {},
   "outputs": [
    {
     "data": {
      "text/html": [
       "<div>\n",
       "<style scoped>\n",
       "    .dataframe tbody tr th:only-of-type {\n",
       "        vertical-align: middle;\n",
       "    }\n",
       "\n",
       "    .dataframe tbody tr th {\n",
       "        vertical-align: top;\n",
       "    }\n",
       "\n",
       "    .dataframe thead th {\n",
       "        text-align: right;\n",
       "    }\n",
       "</style>\n",
       "<table border=\"1\" class=\"dataframe\">\n",
       "  <thead>\n",
       "    <tr style=\"text-align: right;\">\n",
       "      <th></th>\n",
       "      <th>[0, 0, 0]</th>\n",
       "      <th>[0, 0, 1]</th>\n",
       "      <th>[0, 1, 0]</th>\n",
       "      <th>[0, 1, 1]</th>\n",
       "      <th>[1, 0, 0]</th>\n",
       "      <th>[1, 0, 1]</th>\n",
       "      <th>[1, 1, 0]</th>\n",
       "      <th>[1, 1, 1]</th>\n",
       "    </tr>\n",
       "  </thead>\n",
       "  <tbody>\n",
       "    <tr>\n",
       "      <th>[0, 0, 0]</th>\n",
       "      <td>NaN</td>\n",
       "      <td>0.404458</td>\n",
       "      <td>0.211646</td>\n",
       "      <td>0.112528</td>\n",
       "      <td>0.001141</td>\n",
       "      <td>0.167827</td>\n",
       "      <td>0.008326</td>\n",
       "      <td>0.325194</td>\n",
       "    </tr>\n",
       "  </tbody>\n",
       "</table>\n",
       "</div>"
      ],
      "text/plain": [
       "           [0, 0, 0]  [0, 0, 1]  [0, 1, 0]  [0, 1, 1]  [1, 0, 0]  [1, 0, 1]  \\\n",
       "[0, 0, 0]        NaN   0.404458   0.211646   0.112528   0.001141   0.167827   \n",
       "\n",
       "           [1, 1, 0]  [1, 1, 1]  \n",
       "[0, 0, 0]   0.008326   0.325194  "
      ]
     },
     "execution_count": 132,
     "metadata": {},
     "output_type": "execute_result"
    }
   ],
   "source": [
    "Tricks_winp.iloc[:1]"
   ]
  },
  {
   "cell_type": "code",
   "execution_count": 123,
   "metadata": {},
   "outputs": [
    {
     "data": {
      "text/html": [
       "<div>\n",
       "<style scoped>\n",
       "    .dataframe tbody tr th:only-of-type {\n",
       "        vertical-align: middle;\n",
       "    }\n",
       "\n",
       "    .dataframe tbody tr th {\n",
       "        vertical-align: top;\n",
       "    }\n",
       "\n",
       "    .dataframe thead th {\n",
       "        text-align: right;\n",
       "    }\n",
       "</style>\n",
       "<table border=\"1\" class=\"dataframe\">\n",
       "  <thead>\n",
       "    <tr style=\"text-align: right;\">\n",
       "      <th></th>\n",
       "      <th>[0, 0, 0]</th>\n",
       "      <th>[0, 0, 1]</th>\n",
       "      <th>[0, 1, 0]</th>\n",
       "      <th>[0, 1, 1]</th>\n",
       "      <th>[1, 0, 0]</th>\n",
       "      <th>[1, 0, 1]</th>\n",
       "      <th>[1, 1, 0]</th>\n",
       "      <th>[1, 1, 1]</th>\n",
       "    </tr>\n",
       "  </thead>\n",
       "  <tbody>\n",
       "    <tr>\n",
       "      <th>[0, 0, 0]</th>\n",
       "      <td>NaN</td>\n",
       "      <td>0.404458</td>\n",
       "      <td>0.211646</td>\n",
       "      <td>0.112528</td>\n",
       "      <td>0.001141</td>\n",
       "      <td>0.167827</td>\n",
       "      <td>0.008326</td>\n",
       "      <td>0.325194</td>\n",
       "    </tr>\n",
       "    <tr>\n",
       "      <th>[0, 0, 1]</th>\n",
       "      <td>0.441164</td>\n",
       "      <td>NaN</td>\n",
       "      <td>0.801136</td>\n",
       "      <td>0.882746</td>\n",
       "      <td>0.026267</td>\n",
       "      <td>0.792212</td>\n",
       "      <td>0.409324</td>\n",
       "      <td>0.967167</td>\n",
       "    </tr>\n",
       "    <tr>\n",
       "      <th>[0, 1, 0]</th>\n",
       "      <td>0.664728</td>\n",
       "      <td>0.116062</td>\n",
       "      <td>NaN</td>\n",
       "      <td>0.431454</td>\n",
       "      <td>0.423631</td>\n",
       "      <td>0.406318</td>\n",
       "      <td>0.113402</td>\n",
       "      <td>0.694125</td>\n",
       "    </tr>\n",
       "    <tr>\n",
       "      <th>[0, 1, 1]</th>\n",
       "      <td>0.769601</td>\n",
       "      <td>0.051817</td>\n",
       "      <td>0.431776</td>\n",
       "      <td>NaN</td>\n",
       "      <td>0.431744</td>\n",
       "      <td>0.442256</td>\n",
       "      <td>0.935326</td>\n",
       "      <td>0.994855</td>\n",
       "    </tr>\n",
       "    <tr>\n",
       "      <th>[1, 0, 0]</th>\n",
       "      <td>0.994828</td>\n",
       "      <td>0.935239</td>\n",
       "      <td>0.442010</td>\n",
       "      <td>0.431373</td>\n",
       "      <td>NaN</td>\n",
       "      <td>0.431489</td>\n",
       "      <td>0.051800</td>\n",
       "      <td>0.769690</td>\n",
       "    </tr>\n",
       "    <tr>\n",
       "      <th>[1, 0, 1]</th>\n",
       "      <td>0.694413</td>\n",
       "      <td>0.113643</td>\n",
       "      <td>0.406163</td>\n",
       "      <td>0.423590</td>\n",
       "      <td>0.431691</td>\n",
       "      <td>NaN</td>\n",
       "      <td>0.116056</td>\n",
       "      <td>0.664840</td>\n",
       "    </tr>\n",
       "    <tr>\n",
       "      <th>[1, 1, 0]</th>\n",
       "      <td>0.967368</td>\n",
       "      <td>0.409351</td>\n",
       "      <td>0.792313</td>\n",
       "      <td>0.026214</td>\n",
       "      <td>0.882873</td>\n",
       "      <td>0.801072</td>\n",
       "      <td>NaN</td>\n",
       "      <td>0.441466</td>\n",
       "    </tr>\n",
       "    <tr>\n",
       "      <th>[1, 1, 1]</th>\n",
       "      <td>0.325090</td>\n",
       "      <td>0.008379</td>\n",
       "      <td>0.167759</td>\n",
       "      <td>0.001110</td>\n",
       "      <td>0.112569</td>\n",
       "      <td>0.211706</td>\n",
       "      <td>0.404258</td>\n",
       "      <td>NaN</td>\n",
       "    </tr>\n",
       "  </tbody>\n",
       "</table>\n",
       "</div>"
      ],
      "text/plain": [
       "           [0, 0, 0]  [0, 0, 1]  [0, 1, 0]  [0, 1, 1]  [1, 0, 0]  [1, 0, 1]  \\\n",
       "[0, 0, 0]        NaN   0.404458   0.211646   0.112528   0.001141   0.167827   \n",
       "[0, 0, 1]   0.441164        NaN   0.801136   0.882746   0.026267   0.792212   \n",
       "[0, 1, 0]   0.664728   0.116062        NaN   0.431454   0.423631   0.406318   \n",
       "[0, 1, 1]   0.769601   0.051817   0.431776        NaN   0.431744   0.442256   \n",
       "[1, 0, 0]   0.994828   0.935239   0.442010   0.431373        NaN   0.431489   \n",
       "[1, 0, 1]   0.694413   0.113643   0.406163   0.423590   0.431691        NaN   \n",
       "[1, 1, 0]   0.967368   0.409351   0.792313   0.026214   0.882873   0.801072   \n",
       "[1, 1, 1]   0.325090   0.008379   0.167759   0.001110   0.112569   0.211706   \n",
       "\n",
       "           [1, 1, 0]  [1, 1, 1]  \n",
       "[0, 0, 0]   0.008326   0.325194  \n",
       "[0, 0, 1]   0.409324   0.967167  \n",
       "[0, 1, 0]   0.113402   0.694125  \n",
       "[0, 1, 1]   0.935326   0.994855  \n",
       "[1, 0, 0]   0.051800   0.769690  \n",
       "[1, 0, 1]   0.116056   0.664840  \n",
       "[1, 1, 0]        NaN   0.441466  \n",
       "[1, 1, 1]   0.404258        NaN  "
      ]
     },
     "execution_count": 123,
     "metadata": {},
     "output_type": "execute_result"
    }
   ],
   "source": [
    "Tricks_winp"
   ]
  },
  {
   "cell_type": "code",
   "execution_count": 115,
   "metadata": {},
   "outputs": [
    {
     "data": {
      "text/plain": [
       "1    None\n",
       "Name: Opponent_Pick, dtype: object"
      ]
     },
     "execution_count": 115,
     "metadata": {},
     "output_type": "execute_result"
    }
   ],
   "source": [
    "pick_what['Opponent_Pick'][[1]]"
   ]
  },
  {
   "cell_type": "code",
   "execution_count": 116,
   "metadata": {},
   "outputs": [
    {
     "data": {
      "text/plain": [
       "'[0, 0, 1]'"
      ]
     },
     "execution_count": 116,
     "metadata": {},
     "output_type": "execute_result"
    }
   ],
   "source": [
    "Tricks_winp.columns[1]"
   ]
  },
  {
   "cell_type": "code",
   "execution_count": 1,
   "metadata": {},
   "outputs": [],
   "source": [
    "import os\n",
    "import numpy as np"
   ]
  },
  {
   "cell_type": "code",
   "execution_count": 12,
   "metadata": {},
   "outputs": [],
   "source": [
    "# deck_lengths = np.array([0])\n",
    "path = 'src/Decks/loaded/'\n",
    "\n",
    "# for file in os.listdir(path): \n",
    "#     deck_lengths = np.append(deck_lengths, (len(np.load(path+file))))\n",
    "#     print(path+file)\n",
    "#     print(deck_lengths)"
   ]
  },
  {
   "cell_type": "code",
   "execution_count": 28,
   "metadata": {},
   "outputs": [
    {
     "data": {
      "text/plain": [
       "16"
      ]
     },
     "execution_count": 28,
     "metadata": {},
     "output_type": "execute_result"
    }
   ],
   "source": [
    "len(deck_lengths)"
   ]
  },
  {
   "cell_type": "code",
   "execution_count": 21,
   "metadata": {},
   "outputs": [],
   "source": [
    "np.save('src/deck_lengths.npy', deck_lengths)"
   ]
  },
  {
   "cell_type": "code",
   "execution_count": 22,
   "metadata": {},
   "outputs": [
    {
     "data": {
      "text/plain": [
       "array([      0,     100,     100, 1000000, 1000000, 1000000, 1000000,\n",
       "       1000000,  900000, 2000000,  100000,       1,     100,     100,\n",
       "             1])"
      ]
     },
     "execution_count": 22,
     "metadata": {},
     "output_type": "execute_result"
    }
   ],
   "source": [
    "np.load('src/deck_lengths.npy')"
   ]
  },
  {
   "cell_type": "code",
   "execution_count": 18,
   "metadata": {},
   "outputs": [
    {
     "data": {
      "text/plain": [
       "array([      0, 1000000, 1000000, 1000000, 1000000, 2000000,  100000,\n",
       "        900000, 1000000,     100,     100,     100,       1,     100,\n",
       "             1,     115])"
      ]
     },
     "execution_count": 18,
     "metadata": {},
     "output_type": "execute_result"
    }
   ],
   "source": [
    "deck_lengths"
   ]
  },
  {
   "cell_type": "code",
   "execution_count": 3,
   "metadata": {},
   "outputs": [
    {
     "data": {
      "text/plain": [
       "array([      0, 1000000, 1000000, 1000000, 1000000, 2000000,  100000,\n",
       "        900000, 1000000,     100,     100,     100,       1,     100,\n",
       "             1,     115,     202])"
      ]
     },
     "execution_count": 3,
     "metadata": {},
     "output_type": "execute_result"
    }
   ],
   "source": [
    "(np.load('src/Decks/seeds+num_cards/deck_lengths.npy'))"
   ]
  },
  {
   "cell_type": "code",
   "execution_count": 2,
   "metadata": {},
   "outputs": [
    {
     "data": {
      "text/plain": [
       "array([-1,  0,  1,  2,  3,  4,  5,  6,  7,  8,  9, 10, 11, 12, 13, 14, 15])"
      ]
     },
     "execution_count": 2,
     "metadata": {},
     "output_type": "execute_result"
    }
   ],
   "source": [
    "(np.load('src/Decks/seeds+num_cards/used_seeds.npy'))"
   ]
  },
  {
   "cell_type": "code",
   "execution_count": 15,
   "metadata": {},
   "outputs": [],
   "source": [
    "deck_lengths = np.array([0])\n",
    "for i in np.load('src/used_seeds.npy')[1:]:\n",
    "    deck_lengths = np.append(deck_lengths, (len(np.load(path+f'seed_{i}.npy'))))"
   ]
  },
  {
   "cell_type": "code",
   "execution_count": 13,
   "metadata": {},
   "outputs": [
    {
     "data": {
      "text/plain": [
       "115"
      ]
     },
     "execution_count": 13,
     "metadata": {},
     "output_type": "execute_result"
    }
   ],
   "source": [
    "len(np.load(path+f'seed_{14}.npy'))"
   ]
  }
 ],
 "metadata": {
  "kernelspec": {
   "display_name": "Python 3 (ipykernel)",
   "language": "python",
   "name": "python3"
  },
  "language_info": {
   "codemirror_mode": {
    "name": "ipython",
    "version": 3
   },
   "file_extension": ".py",
   "mimetype": "text/x-python",
   "name": "python",
   "nbconvert_exporter": "python",
   "pygments_lexer": "ipython3",
   "version": "3.12.9"
  }
 },
 "nbformat": 4,
 "nbformat_minor": 4
}
