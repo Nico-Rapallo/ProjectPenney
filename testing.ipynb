{
 "cells": [
  {
   "cell_type": "code",
   "execution_count": 2,
   "metadata": {},
   "outputs": [],
   "source": [
    "from src.helpers import *\n",
    "from src.visualization import *\n",
    "from src.Decks_Class import *\n",
    "import pandas as pd\n",
    "import numpy as np\n",
    "import os"
   ]
  },
  {
   "cell_type": "code",
   "execution_count": null,
   "metadata": {},
   "outputs": [],
   "source": [
    "# num_decks = 1_000_000\n",
    "# decks = Deck_Array(num_decks)\n",
    "decks.run_decks_array()"
   ]
  },
  {
   "cell_type": "code",
   "execution_count": null,
   "metadata": {},
   "outputs": [],
   "source": [
    "num_decks = 1_000_000\n",
    "decks = Deck_Array(num_decks, 7)\n",
    "decks.run_decks_array()\n",
    "gen_heatmap(7)"
   ]
  },
  {
   "cell_type": "code",
   "execution_count": 3,
   "metadata": {},
   "outputs": [],
   "source": [
    "clear_all()"
   ]
  },
  {
   "cell_type": "code",
   "execution_count": null,
   "metadata": {},
   "outputs": [],
   "source": [
    "hand_size = 2\n",
    "color_labels = []\n",
    "for n in range(0, 2**hand_size):\n",
    "    player = f\"{n:0{hand_size}b}\".replace('0', 'R').replace('1', 'B')\n",
    "    color_labels.append(player)\n",
    "color_labels"
   ]
  },
  {
   "cell_type": "code",
   "execution_count": null,
   "metadata": {},
   "outputs": [],
   "source": [
    "f\"{1:0{4}b}\""
   ]
  },
  {
   "cell_type": "code",
   "execution_count": null,
   "metadata": {},
   "outputs": [],
   "source": [
    "from src.helpers import *\n",
    "from src.Decks_Class import *\n",
    "from src.processing import *\n",
    "\n",
    "import matplotlib.pyplot as plt\n",
    "import seaborn as sns\n",
    "\n",
    "def gen_heatmap(hand_size:int = 3):\n",
    "    Trick_Wins = np.load(SCORES_PATH + 'T_Wins_hand_size' + str(hand_size) + '.npy')\n",
    "    Trick_Losses = np.load(SCORES_PATH + 'T_Losses_hand_size' + str(hand_size) + '.npy')\n",
    "    Cards_Wins = np.load(SCORES_PATH + 'C_Wins_hand_size' + str(hand_size) + '.npy')\n",
    "    Cards_Losses = np.load(SCORES_PATH + 'C_Losses_hand_size' + str(hand_size) + '.npy')\n",
    "\n",
    "    total = np.load('src/Deck_Counts/Deck_Counts_hand_size' + str(hand_size) + '.npy')\n",
    "\n",
    "    trick_win_percent = (Trick_Wins)/total\n",
    "    trick_loss_percent = (Trick_Losses)/total\n",
    "    create_graphs(trick_win_percent, trick_loss_percent, total, 'Tricks', hand_size)\n",
    "\n",
    "    cards_win_percent = (Cards_Wins)/total\n",
    "    cards_loss_percent = (Cards_Losses)/total\n",
    "    create_graphs(cards_win_percent, cards_loss_percent, total, 'Cards', hand_size)\n",
    "\n",
    "def create_graphs(win:pd.DataFrame, loss:pd.DataFrame, total:int, name:str, hand_size:int = 3):\n",
    "    '''\n",
    "    Function takes in Dataframes of Win Percentage and Loss Percentage.\n",
    "    Creates and saves a figure with name.\n",
    "    '''\n",
    "    mask = np.asarray(win==0)\n",
    "    \n",
    "    color_labels = []\n",
    "    for i in range(0, 2**hand_size):\n",
    "        player = f\"{i:0{hand_size}b}\".replace('0', 'R').replace('1', 'B')\n",
    "        color_labels.append(player)\n",
    "\n",
    "    n = \"{:.0e}\".format(int(total))\n",
    "\n",
    "    fig, (ax1, ax2) = plt.subplots(1, 2, figsize=(26, 12))\n",
    "    fig.suptitle(f'Penneys Game - {name} \\n(n={n})', fontsize=24)\n",
    "    \n",
    "    plt.yticks(rotation=0)\n",
    "    \n",
    "    display_text = (hand_size <= 4)\n",
    "        \n",
    "    ax1 = sns.heatmap(win, \n",
    "                annot=display_text, mask = mask, cmap='Reds', fmt='.1%', linewidths=.5,cbar = False, ax=ax1)\n",
    "    \n",
    "    ax1.set_title('Win Percentage', fontsize=20)\n",
    "    ax1.set_xlabel('Player 2', fontsize=16)\n",
    "    ax1.set_ylabel('Player 1', fontsize=16)\n",
    "    if display_text:\n",
    "        ax1.set_yticklabels(labels = color_labels, rotation=0, fontsize=14)\n",
    "        ax1.set_xticklabels(labels = color_labels, rotation=0, fontsize=14)\n",
    "    ax1.figure.axes[-1].set_ylabel('Player 1 Win Percentage', size=16)\n",
    "    \n",
    "    \n",
    "    ax2 = sns.heatmap(loss, \n",
    "                annot=display_text, mask = mask, cmap='Blues', fmt='.1%', linewidths=.5, cbar = False, ax=ax2)\n",
    "    \n",
    "    ax2.set_title('Loss Percentage', fontsize=20)\n",
    "    ax2.set_xlabel('Player 2', fontsize=16)\n",
    "    ax2.set_ylabel('Player 1', fontsize=16)\n",
    "    if display_text:\n",
    "        ax2.set_yticklabels(labels = color_labels, rotation=0, fontsize=14)\n",
    "        ax2.set_xticklabels(labels = color_labels, rotation=0, fontsize=14)\n",
    "    \n",
    "    plt.savefig(f'figures/{name}_heatmap.png')"
   ]
  },
  {
   "cell_type": "code",
   "execution_count": null,
   "metadata": {},
   "outputs": [],
   "source": [
    "gen_heatmap(4)"
   ]
  },
  {
   "cell_type": "code",
   "execution_count": null,
   "metadata": {},
   "outputs": [],
   "source": []
  },
  {
   "cell_type": "code",
   "execution_count": null,
   "metadata": {},
   "outputs": [],
   "source": []
  },
  {
   "cell_type": "code",
   "execution_count": null,
   "metadata": {},
   "outputs": [],
   "source": []
  },
  {
   "cell_type": "code",
   "execution_count": null,
   "metadata": {},
   "outputs": [],
   "source": []
  },
  {
   "cell_type": "code",
   "execution_count": null,
   "metadata": {},
   "outputs": [],
   "source": []
  },
  {
   "cell_type": "code",
   "execution_count": null,
   "metadata": {},
   "outputs": [],
   "source": []
  },
  {
   "cell_type": "code",
   "execution_count": null,
   "metadata": {},
   "outputs": [],
   "source": []
  },
  {
   "cell_type": "code",
   "execution_count": null,
   "metadata": {},
   "outputs": [],
   "source": []
  },
  {
   "cell_type": "code",
   "execution_count": null,
   "metadata": {},
   "outputs": [],
   "source": [
    "decks.seed"
   ]
  },
  {
   "cell_type": "code",
   "execution_count": null,
   "metadata": {},
   "outputs": [],
   "source": [
    "np.load('src/Scores/C_Wins_hand_size2.npy')"
   ]
  },
  {
   "cell_type": "code",
   "execution_count": null,
   "metadata": {},
   "outputs": [],
   "source": [
    "np.round(100*np.load('src/Scores/C_Wins_hand_size2.npy')/np.load('src/Deck_Counts/Deck_Counts_hand_size2.npy'),2)"
   ]
  },
  {
   "cell_type": "code",
   "execution_count": null,
   "metadata": {},
   "outputs": [],
   "source": [
    "np.round(100*np.load('src/Scores/C_Losses_hand_size3.npy')/np.load('src/Deck_Counts/Deck_Counts_hand_size3.npy'))"
   ]
  },
  {
   "cell_type": "code",
   "execution_count": null,
   "metadata": {},
   "outputs": [],
   "source": [
    "np.round(100*np.load('src/Scores/T_Wins_hand_size3.npy')/np.load('src/Deck_Counts/Deck_Counts_hand_size3.npy'))"
   ]
  },
  {
   "cell_type": "code",
   "execution_count": null,
   "metadata": {},
   "outputs": [],
   "source": [
    "clear_all()"
   ]
  },
  {
   "cell_type": "code",
   "execution_count": null,
   "metadata": {},
   "outputs": [],
   "source": [
    "Trick_Wins, Trick_Losses, Cards_Wins, Cards_Losses = get_complete_tables()\n",
    "\n",
    "total = np.sum(np.load('src/Decks/deck_lengths.npy'))\n",
    "\n",
    "mask = np.asarray(Trick_Wins==0)\n",
    "color_labels = ['RRR', 'RRB', 'RBR', 'RBB', 'BRR', 'BRB', 'BBR', 'BBB']\n",
    "\n",
    "trick_win_percent = (Trick_Wins)/total\n",
    "trick_loss_percent = (Trick_Losses)/total\n",
    "\n",
    "cards_win_percent = (Cards_Wins)/total\n",
    "cards_loss_percent = (Cards_Losses)/total"
   ]
  },
  {
   "cell_type": "code",
   "execution_count": null,
   "metadata": {},
   "outputs": [],
   "source": [
    "def create_graphs(win, loss, name):\n",
    "    n = \"{:.0e}\".format(int(total))\n",
    "    fig, (ax1, ax2) = plt.subplots(1, 2, figsize=(26, 12))\n",
    "    fig.suptitle(f'Penneys Game - {name} \\n(n={n})', fontsize=24)\n",
    "    \n",
    "    plt.yticks(rotation=0)\n",
    "    ax1 = sns.heatmap(win, \n",
    "                annot=True, mask = mask, cmap='Reds', fmt='.2%', linewidths=.5, ax=ax1)\n",
    "    \n",
    "    ax1.set_title('Win Percentage', fontsize=20)\n",
    "    ax1.set_xlabel('Player 2', fontsize=16)\n",
    "    ax1.set_ylabel('Player 1', fontsize=16)\n",
    "    ax1.set_yticklabels(labels = color_labels, rotation=0, fontsize=14)\n",
    "    ax1.set_xticklabels(labels = color_labels, rotation=0, fontsize=14)\n",
    "    ax1.figure.axes[-1].set_ylabel('Player 1 Win Percentage', size=16)\n",
    "    \n",
    "    \n",
    "    ax2 = sns.heatmap(loss, \n",
    "                annot=True, mask = mask, cmap='Blues', fmt='.2%', linewidths=.5, ax=ax2)\n",
    "    \n",
    "    ax2.set_title('Loss Percentage', fontsize=20)\n",
    "    ax2.set_xlabel('Player 2', fontsize=16)\n",
    "    ax2.set_ylabel('Player 1', fontsize=16)\n",
    "    ax2.set_yticklabels(labels = color_labels, rotation=0, fontsize=14)\n",
    "    ax2.set_xticklabels(labels = color_labels, rotation=0, fontsize=14)\n",
    "    ax1.figure.axes[-1].set_ylabel('Player 1 Loss Percentage', size=16)\n",
    "    \n",
    "    plt.savefig(f'figures/{name}_heatmap.png')\n",
    "    plt.show()"
   ]
  },
  {
   "cell_type": "code",
   "execution_count": null,
   "metadata": {},
   "outputs": [],
   "source": [
    "\n",
    "\n",
    "\n",
    "n = \"{:.0e}\".format(int(total))\n",
    "plt.figure(figsize=(10, 9))\n",
    "mask = trick_win_percent.isnull()\n",
    "sns.heatmap(trick_win_percent, annot=True, mask = mask, cmap='Reds', fmt='.2%', linewidths=.5, cbar_kws=False)\n",
    "plt.title(f'Penneys Game Win Percentage Heatmap\\n(n={n})')\n",
    "plt.yticks(rotation=0)\n",
    "plt.xlabel('Player 2')\n",
    "plt.ylabel('Player 1')\n",
    "\n",
    "\n",
    "plt.figure(figsize=(10, 9))\n",
    "sns.heatmap(trick_loss_percent, annot=True, mask = mask, cmap='Blues', fmt='.2%',cbar_kws=False)\n",
    "plt.title(f'Penneys Game Loss Percentage Heatmap\\n(n={total})')\n",
    "plt.yticks(rotation=0)\n",
    "plt.xlabel('Player 2')\n",
    "plt.ylabel('Player 1')\n",
    "\n",
    "\n",
    "# plt.figure(figsize=(10, 9))\n",
    "# sns.heatmap(cards_win_percent, annot=True, mask = mask, cmap='Reds', fmt='.2%', cbar_kws={'label': 'PLayer 1 Win Percentage'})\n",
    "# plt.title(f'Penneys Game Win Percentage Heatmap\\n(n={n})')\n",
    "# plt.yticks(rotation=0)\n",
    "# plt.xlabel('Player 2')\n",
    "# plt.ylabel('Player 1')\n",
    "# plt.savefig('figures/cards_win_heatmap.png')\n",
    "\n",
    "# plt.figure(figsize=(10, 9))\n",
    "# sns.heatmap(cards_loss_percent, annot=True, mask = mask, cmap='Blues', fmt='.2%',cbar_kws={'label': 'PLayer 1 Loss Percentage'})\n",
    "# plt.title(f'Penneys Game Loss Percentage Heatmap\\n(n={n})')\n",
    "# plt.yticks(rotation=0)\n",
    "# plt.xlabel('Player 2')\n",
    "# plt.ylabel('Player 1')\n",
    "\n",
    "\n",
    "# plt.figure(figsize=(10, 9))\n",
    "# sns.heatmap(trick_win_percent-cards_win_percent, annot=True, mask = mask, cmap='vlag', fmt='.2%',cbar_kws={'label': 'PLayer 1 Win Percentage Difference'})\n",
    "# plt.title(f'Penneys Game Cards vs Tricks Win Percentage Heatmap\\n(n={n})')\n",
    "# plt.yticks(rotation=0)\n",
    "# plt.xlabel('Player 2')\n",
    "# plt.ylabel('Player 1')\n",
    "\n",
    "\n",
    "# plt.figure(figsize=(10, 9))\n",
    "# sns.heatmap(trick_loss_percent-cards_loss_percent, annot=True, mask = mask, cmap='vlag', fmt='.2%',cbar_kws={'label': 'PLayer 1 Loss Percentage Difference'})\n",
    "# plt.title(f'Penneys Game Cards vs Tricks Loss Percentage Heatmap\\n(n={n})')\n",
    "# plt.yticks(rotation=0)\n",
    "# plt.xlabel('Player 2')\n",
    "# plt.ylabel('Player 1')\n"
   ]
  },
  {
   "cell_type": "code",
   "execution_count": null,
   "metadata": {},
   "outputs": [],
   "source": [
    "pick_what = pd.DataFrame(data = [[None]*5]*8, columns=['Opponent_Pick','Tricks_WinMax', 'Tricks_LossMin', 'Cards_WinMax','Cards_MinLoss'])\n",
    "for i, pick in enumerate(Tricks_winp.columns):\n",
    "    pick_what.loc[i, 'Opponent_Pick'] = pick\n",
    "    pick_what.loc[i, 'Tricks_WinMax'] = [Tricks_winp.iloc[:,(Tricks_winp.iloc[:,i].argmax())].name, round(Tricks_winp.iloc[:,i].max(),2)]\n",
    "    pick_what.loc[i, 'Tricks_LossMin'] = [Tricks_lossp.iloc[:,Tricks_lossp.iloc[:,i].argmin()].name, round(Tricks_lossp.iloc[:,i].min(),2)]\n",
    "    pick_what.loc[i, 'Cards_WinMax'] = [Tricks_winp.iloc[:,(Tricks_winp.iloc[:,i].argmax())].name, round(Tricks_winp.iloc[:,i].max(),2)]\n",
    "    pick_what.loc[i, 'Cards_MinLoss'] = [Tricks_lossp.iloc[:,Cards_lossp.iloc[:,i].argmin()].name, round(Cards_lossp.iloc[:,i].min(),2)]"
   ]
  },
  {
   "cell_type": "code",
   "execution_count": null,
   "metadata": {},
   "outputs": [],
   "source": [
    "pick_what"
   ]
  },
  {
   "cell_type": "code",
   "execution_count": null,
   "metadata": {},
   "outputs": [],
   "source": []
  },
  {
   "cell_type": "code",
   "execution_count": null,
   "metadata": {},
   "outputs": [],
   "source": []
  },
  {
   "cell_type": "code",
   "execution_count": null,
   "metadata": {},
   "outputs": [],
   "source": [
    "{Tricks_winp.iloc[:,(Tricks_winp.iloc[0].argmax())].name, Tricks_winp.iloc[1].max()}"
   ]
  },
  {
   "cell_type": "code",
   "execution_count": null,
   "metadata": {},
   "outputs": [],
   "source": [
    "Tricks_winp.iloc[:1]"
   ]
  },
  {
   "cell_type": "code",
   "execution_count": null,
   "metadata": {},
   "outputs": [],
   "source": [
    "Tricks_winp"
   ]
  },
  {
   "cell_type": "code",
   "execution_count": null,
   "metadata": {},
   "outputs": [],
   "source": [
    "pick_what['Opponent_Pick'][[1]]"
   ]
  },
  {
   "cell_type": "code",
   "execution_count": null,
   "metadata": {},
   "outputs": [],
   "source": [
    "Tricks_winp.columns[1]"
   ]
  },
  {
   "cell_type": "code",
   "execution_count": null,
   "metadata": {},
   "outputs": [],
   "source": [
    "import os\n",
    "import numpy as np"
   ]
  },
  {
   "cell_type": "code",
   "execution_count": null,
   "metadata": {},
   "outputs": [],
   "source": [
    "# deck_lengths = np.array([0])\n",
    "path = 'src/Decks/loaded/'\n",
    "\n",
    "# for file in os.listdir(path): \n",
    "#     deck_lengths = np.append(deck_lengths, (len(np.load(path+file))))\n",
    "#     print(path+file)\n",
    "#     print(deck_lengths)"
   ]
  },
  {
   "cell_type": "code",
   "execution_count": null,
   "metadata": {},
   "outputs": [],
   "source": [
    "len(deck_lengths)"
   ]
  },
  {
   "cell_type": "code",
   "execution_count": null,
   "metadata": {},
   "outputs": [],
   "source": [
    "np.save('src/deck_lengths.npy', deck_lengths)"
   ]
  },
  {
   "cell_type": "code",
   "execution_count": null,
   "metadata": {},
   "outputs": [],
   "source": [
    "np.load('src/deck_lengths.npy')"
   ]
  },
  {
   "cell_type": "code",
   "execution_count": null,
   "metadata": {},
   "outputs": [],
   "source": [
    "deck_lengths"
   ]
  },
  {
   "cell_type": "code",
   "execution_count": null,
   "metadata": {},
   "outputs": [],
   "source": [
    "(np.load('src/Decks/seeds+num_cards/deck_lengths.npy'))"
   ]
  },
  {
   "cell_type": "code",
   "execution_count": null,
   "metadata": {},
   "outputs": [],
   "source": [
    "(np.load('src/Decks/seeds+num_cards/used_seeds.npy'))"
   ]
  },
  {
   "cell_type": "code",
   "execution_count": null,
   "metadata": {},
   "outputs": [],
   "source": [
    "deck_lengths = np.array([0])\n",
    "for i in np.load('src/used_seeds.npy')[1:]:\n",
    "    deck_lengths = np.append(deck_lengths, (len(np.load(path+f'seed_{i}.npy'))))"
   ]
  },
  {
   "cell_type": "code",
   "execution_count": null,
   "metadata": {},
   "outputs": [],
   "source": [
    "len(np.load(path+f'seed_{14}.npy'))"
   ]
  }
 ],
 "metadata": {
  "kernelspec": {
   "display_name": "Python 3 (ipykernel)",
   "language": "python",
   "name": "python3"
  },
  "language_info": {
   "codemirror_mode": {
    "name": "ipython",
    "version": 3
   },
   "file_extension": ".py",
   "mimetype": "text/x-python",
   "name": "python",
   "nbconvert_exporter": "python",
   "pygments_lexer": "ipython3",
   "version": "3.12.9"
  }
 },
 "nbformat": 4,
 "nbformat_minor": 4
}
