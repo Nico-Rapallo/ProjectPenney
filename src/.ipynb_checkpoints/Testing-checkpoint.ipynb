{
 "cells": [
  {
   "cell_type": "code",
   "execution_count": 384,
   "id": "bcbcaf7b-5f75-486c-801e-f9d4e8070cb0",
   "metadata": {},
   "outputs": [],
   "source": [
    "import numpy as np\n",
    "from tqdm import tqdm\n",
    "import pandas as pd\n",
    "import os\n",
    "HALF_DECK_SIZE = 26\n",
    "PATH_TO_LOAD = 'Decks/to_load/'\n",
    "PATH_LOADED = 'Decks/loaded/'\n",
    "SCORES_PATH = 'SCORES/'\n",
    "TABLES_PATHS = ['T_WINS/', 'T_LOSSES/', 'T_TIES/', 'C_WINS/', 'C_LOSSES/', 'C_TIES/']\n",
    "ALL_PLAYERS =[[0,0,0], [0,0,1], [0,1,0], [0,1,1], [1,0,0], [1,0,1], [1,1,0], [1,1,1]]"
   ]
  },
  {
   "cell_type": "code",
   "execution_count": 391,
   "id": "54a6ead0-031c-412e-b385-50e52b6eac31",
   "metadata": {},
   "outputs": [],
   "source": [
    "class Deck_Array():\n",
    "    def __init__(self, seed, num_decks):\n",
    "        self.seed = seed\n",
    "        self.num_decks = num_decks\n",
    "        \n",
    "        self.T_Wins = np.zeros((8, 8))\n",
    "        self.T_Losses = np.zeros((8, 8))\n",
    "        self.T_Ties = np.zeros((8, 8))\n",
    "        self.C_Wins = np.zeros((8, 8))\n",
    "        self.C_Losses = np.zeros((8, 8))\n",
    "        self.C_Ties = np.zeros((8, 8))\n",
    "\n",
    "        self.decks_array = self.get_decks_array()\n",
    "        self.save_decks_array()\n",
    "        return\n",
    "   \n",
    "\n",
    "    def get_decks_array(self, half_deck_size: int = HALF_DECK_SIZE) -> tuple[np.ndarray, np.ndarray]:\n",
    "        \"\"\"\n",
    "        Efficiently generate `n_decks` shuffled decks using NumPy.\n",
    "        \n",
    "        Returns:\n",
    "            decks (np.ndarray): 2D array of shape (n_decks, num_cards), \n",
    "            each row is a shuffled deck.\n",
    "        \"\"\"\n",
    "        init_deck = [0]*half_deck_size + [1]*half_deck_size\n",
    "        decks = np.tile(init_deck, (self.num_decks, 1))\n",
    "        rng = np.random.default_rng(self.seed)\n",
    "        rng.permuted(decks, axis=1, out=decks)\n",
    "        return decks\n",
    "\n",
    "    def save_decks_array(self) -> str:\n",
    "        path = PATH_TO_LOAD + f\"seed_{self.seed}.npy\"\n",
    "        np.save(path, self.decks_array)\n",
    "        return\n",
    "\n",
    "    \n",
    "    def run_all_games(self, deck:np.array) -> None:\n",
    "        '''\n",
    "        Function runs all possible matchups on given deck, updates WINS, LOSSES, and TIES\n",
    "        '''\n",
    "        \n",
    "        for i, p1 in enumerate(ALL_PLAYERS):\n",
    "            for j, p2 in enumerate(ALL_PLAYERS):\n",
    "                if p1 <= p2: continue\n",
    "                p1_tricks, p1_cards, p2_tricks, p2_cards = score_game(p1, p2, deck)\n",
    "                \n",
    "                if p1_tricks > p2_tricks:\n",
    "                    self.T_Wins[i, j] += 1\n",
    "                elif p1_tricks < p2_tricks:\n",
    "                    self.T_Losses[i, j] += 1\n",
    "                elif p1_tricks == p2_tricks:\n",
    "                    self.T_Ties[i, j] += 1\n",
    "        \n",
    "                if p1_cards > p2_cards:\n",
    "                    self.C_Wins[i, j] += 1\n",
    "                elif p1_cards < p2_cards:\n",
    "                    self.C_Losses[i, j] += 1\n",
    "                elif p1_cards == p2_cards:\n",
    "                    self.C_Ties[i, j] += 1\n",
    "        return\n",
    "\n",
    "    def run_all_decks(self) -> None:\n",
    "        for deck in tqdm(self.decks_array):\n",
    "                self.run_all_games(deck)\n",
    "        path = PATH_TO_LOAD + f\"seed_{self.seed}.npy\"\n",
    "        os.rename(path, path.replace(PATH_TO_LOAD, PATH_LOADED))\n",
    "        return\n",
    "        \n",
    "    def save_scores(self):\n",
    "        seed_path = f'seed_{self.seed}.npy'\n",
    "        \n",
    "        np.save(SCORES_PATH+'T_WINS/T_Wins_'+seed_path, self.T_Wins)\n",
    "        np.save(SCORES_PATH+'T_LOSSES/T_Losses_'+seed_path, self.T_Losses)\n",
    "        np.save(SCORES_PATH+'T_TIES/T_Ties_'+seed_path, self.T_Ties)\n",
    "        \n",
    "        np.save(SCORES_PATH+'C_WINS/C_Wins_'+seed_path, self.C_Wins)\n",
    "        np.save(SCORES_PATH+'C_LOSSES/C_Losses_'+seed_path, self.C_Losses)\n",
    "        np.save(SCORES_PATH+'C_TIES/C_Ties_'+seed_path, self.C_Ties)\n",
    "        return"
   ]
  },
  {
   "cell_type": "code",
   "execution_count": 386,
   "id": "3f139bd3-6341-4250-a371-2cc45ab8f672",
   "metadata": {},
   "outputs": [],
   "source": [
    "def get_complete_tables():\n",
    "    T_Wins = np.zeros((8, 8))\n",
    "    T_Losses = np.zeros((8, 8))\n",
    "    T_Ties = np.zeros((8, 8))\n",
    "    C_Wins = np.zeros((8, 8))\n",
    "    C_Losses = np.zeros((8, 8))\n",
    "    C_Ties = np.zeros((8, 8))\n",
    "    \n",
    "    for table in TABLES_PATHS:\n",
    "        for file in os.listdir(SCORES_PATH + table):\n",
    "            new_table = np.load(SCORES_PATH + table + file)\n",
    "            if table == 'T_WINS/':T_Wins += new_table\n",
    "            elif table == 'T_LOSSES/':T_Losses += new_table  \n",
    "            elif table == 'T_TIES/':T_Ties += new_table  \n",
    "            elif table == 'C_WINS/':C_Wins += new_table  \n",
    "            elif table == 'C_LOSSES/':C_Losses += new_table \n",
    "            elif table == 'C_TIES/':C_Ties += new_table\n",
    "    labels = list(map(str, ALL_PLAYERS))\n",
    "    T_Wins = pd.DataFrame(T_Wins, labels, labels)\n",
    "    T_Losses = pd.DataFrame(T_Losses, labels, labels)\n",
    "    T_Ties = pd.DataFrame(T_Ties, labels, labels)\n",
    "    C_Wins = pd.DataFrame(C_Wins, labels, labels)\n",
    "    C_Losses = pd.DataFrame(C_Losses, labels, labels)\n",
    "    C_Ties = pd.DataFrame(C_Ties, labels, labels)\n",
    "    return T_Wins, T_Losses, T_Ties, C_Wins, C_Losses, C_Ties\n",
    "\n",
    "\n",
    "def gen_heatmap():\n",
    "    TRICK_WINS, TRICK_LOSSES, TRICK_TIES, CARDS_WINS, CARDS_LOSSES, CARDS_TIES = get_complete_tables()\n",
    "    total = TRICK_WINS + TRICK_LOSSES + TRICK_TIES\n",
    "    trick_win_percent = (TRICK_WINS + TRICK_LOSSES.T)/(total+total.T)\n",
    "    trick_loss_percent = (TRICK_LOSSES + TRICK_WINS.T)/(total+total.T)\n",
    "    n = int(total.iloc[1, 0])\n",
    "    plt.figure(figsize=(10, 9))\n",
    "    mask = trick_win_percent.isnull()\n",
    "    sns.heatmap(trick_win_percent, annot=True, mask = mask, cmap='Reds', fmt='.2%', cbar_kws={'label': 'PLayer 1 Win Percentage'})\n",
    "    plt.title(f'Penneys Game Win Percentage Heatmap\\n(n={n})')\n",
    "    plt.yticks(rotation=0)\n",
    "    plt.xlabel('Player 2')\n",
    "    plt.ylabel('Player 1')\n",
    "    plt.savefig('win_heatmap.png')\n",
    "    \n",
    "    plt.figure(figsize=(10, 9))\n",
    "    sns.heatmap(trick_loss_percent, annot=True, mask = mask, cmap='Blues', fmt='.2%',cbar_kws={'label': 'PLayer 1 Loss Percentage'})\n",
    "    plt.title(f'Penneys Game Loss Percentage Heatmap\\n(n={n})')\n",
    "    plt.yticks(rotation=0)\n",
    "    plt.xlabel('Player 2')\n",
    "    plt.ylabel('Player 1')\n",
    "    plt.savefig('loss_heatmap.png')"
   ]
  },
  {
   "cell_type": "code",
   "execution_count": 392,
   "id": "ea1b5f6e-d47c-4d99-8e5b-34001d496954",
   "metadata": {},
   "outputs": [],
   "source": [
    "x = Deck_Array(12, 100)"
   ]
  },
  {
   "cell_type": "code",
   "execution_count": 394,
   "id": "8a67990d-0b12-420c-8f34-1693f405033b",
   "metadata": {},
   "outputs": [
    {
     "name": "stderr",
     "output_type": "stream",
     "text": [
      "100%|███████████████████████████████████████| 100/100 [00:00<00:00, 1385.81it/s]\n"
     ]
    }
   ],
   "source": [
    "x.run_all_decks()"
   ]
  },
  {
   "cell_type": "code",
   "execution_count": 393,
   "id": "2699b8b4-99b7-4443-abc2-1704b90e5e94",
   "metadata": {},
   "outputs": [],
   "source": [
    "x.save_scores()"
   ]
  },
  {
   "cell_type": "code",
   "execution_count": null,
   "id": "54a2792f-7401-485d-b84b-6964741ef328",
   "metadata": {},
   "outputs": [],
   "source": []
  },
  {
   "cell_type": "code",
   "execution_count": null,
   "id": "e545b106-aff1-4aeb-9531-1582d940ee77",
   "metadata": {},
   "outputs": [],
   "source": []
  },
  {
   "cell_type": "code",
   "execution_count": null,
   "id": "d2ab9070-9a87-457c-bd83-a3fe935a97a4",
   "metadata": {},
   "outputs": [],
   "source": []
  },
  {
   "cell_type": "code",
   "execution_count": null,
   "id": "35a5f0d8-8fb1-4850-9e97-1a3b3c3e0932",
   "metadata": {},
   "outputs": [],
   "source": []
  },
  {
   "cell_type": "code",
   "execution_count": null,
   "id": "2b89d3b9-1df6-46b2-aac7-6164d2903483",
   "metadata": {},
   "outputs": [],
   "source": []
  },
  {
   "cell_type": "code",
   "execution_count": null,
   "id": "7737961a-f0a1-49b5-9f49-72c58062f6f6",
   "metadata": {},
   "outputs": [],
   "source": []
  },
  {
   "cell_type": "code",
   "execution_count": null,
   "id": "f1a1bdc6-b22e-4ffd-ae99-a6fb84797e95",
   "metadata": {},
   "outputs": [],
   "source": []
  },
  {
   "cell_type": "code",
   "execution_count": null,
   "id": "c2373c6a-7ea9-4521-a5e8-501993a2368c",
   "metadata": {},
   "outputs": [],
   "source": []
  },
  {
   "cell_type": "code",
   "execution_count": null,
   "id": "88d0fd5a-d82d-4bda-9fa8-57b97752fed5",
   "metadata": {},
   "outputs": [],
   "source": []
  }
 ],
 "metadata": {
  "kernelspec": {
   "display_name": "Python 3 (ipykernel)",
   "language": "python",
   "name": "python3"
  },
  "language_info": {
   "codemirror_mode": {
    "name": "ipython",
    "version": 3
   },
   "file_extension": ".py",
   "mimetype": "text/x-python",
   "name": "python",
   "nbconvert_exporter": "python",
   "pygments_lexer": "ipython3",
   "version": "3.12.9"
  }
 },
 "nbformat": 4,
 "nbformat_minor": 5
}
